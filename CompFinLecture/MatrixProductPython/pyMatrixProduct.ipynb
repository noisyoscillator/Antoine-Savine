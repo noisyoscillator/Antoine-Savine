{
 "cells": [
  {
   "cell_type": "code",
   "execution_count": 2,
   "metadata": {},
   "outputs": [],
   "source": [
    "import numpy as np\n",
    "import time\n",
    "\n",
    "Na = 200\n",
    "Ma = 200\n",
    "\n",
    "Nb = 200\n",
    "Mb = 200\n",
    "\n",
    "a = np.random.rand(Na, Ma)\n",
    "b = np.random.rand(Nb, Mb)"
   ]
  },
  {
   "cell_type": "code",
   "execution_count": 3,
   "metadata": {},
   "outputs": [],
   "source": [
    "def pyMp(a, b):\n",
    "    \n",
    "    na, ma = a.shape\n",
    "    nb, mb = b.shape\n",
    "    c = np.zeros((na, mb,))\n",
    "    \n",
    "    for i in range(na):\n",
    "        for j in range(mb):\n",
    "            for k in range(na):\n",
    "                c[i,j] += a[i,k] * b[k, j]\n",
    "    return c"
   ]
  },
  {
   "cell_type": "code",
   "execution_count": 4,
   "metadata": {},
   "outputs": [
    {
     "name": "stdout",
     "output_type": "stream",
     "text": [
      "Time: 4.029\n"
     ]
    }
   ],
   "source": [
    "t1 = time.time()\n",
    "c = pyMp(a, b)\n",
    "t2 = time.time()\n",
    "print(f'Time: {(t2 - t1):.3f}')"
   ]
  },
  {
   "cell_type": "code",
   "execution_count": 6,
   "metadata": {},
   "outputs": [
    {
     "name": "stdout",
     "output_type": "stream",
     "text": [
      "Time: 0.00000\n"
     ]
    }
   ],
   "source": [
    "t1 = time.time()\n",
    "c = a.dot(b)\n",
    "t2 = time.time()\n",
    "print(f'Time: {(t2 - t1):.5f}')"
   ]
  },
  {
   "cell_type": "code",
   "execution_count": 9,
   "metadata": {},
   "outputs": [
    {
     "name": "stdout",
     "output_type": "stream",
     "text": [
      "Time: 0.040\n"
     ]
    }
   ],
   "source": [
    "Na = 1000\n",
    "Ma = 1000\n",
    "\n",
    "Nb = 1000\n",
    "Mb = 1000\n",
    "\n",
    "a = np.random.rand(Na, Ma)\n",
    "b = np.random.rand(Nb, Mb)\n",
    "\n",
    "t1 = time.time()\n",
    "c = a.dot(b)\n",
    "t2 = time.time()\n",
    "print(f'Time: {(t2 - t1):.3f}')"
   ]
  },
  {
   "cell_type": "code",
   "execution_count": 10,
   "metadata": {},
   "outputs": [
    {
     "name": "stdout",
     "output_type": "stream",
     "text": [
      "Time: 2.303\n"
     ]
    }
   ],
   "source": [
    "Na = 5000\n",
    "Ma = 5000\n",
    "\n",
    "Nb = 5000\n",
    "Mb = 5000\n",
    "\n",
    "a = np.random.rand(Na, Ma)\n",
    "b = np.random.rand(Nb, Mb)\n",
    "\n",
    "t1 = time.time()\n",
    "c = a.dot(b)\n",
    "t2 = time.time()\n",
    "print(f'Time: {(t2 - t1):.3f}')"
   ]
  },
  {
   "cell_type": "code",
   "execution_count": 11,
   "metadata": {},
   "outputs": [
    {
     "name": "stdout",
     "output_type": "stream",
     "text": [
      "1.14.0\n",
      "True\n"
     ]
    }
   ],
   "source": [
    "import tensorflow as tf\n",
    "print(tf.__version__)\n",
    "print(tf.test.is_gpu_available())\n",
    "tf.debugging.set_log_device_placement(True)"
   ]
  },
  {
   "cell_type": "code",
   "execution_count": 13,
   "metadata": {},
   "outputs": [
    {
     "name": "stdout",
     "output_type": "stream",
     "text": [
      "Time: 0.493\n"
     ]
    }
   ],
   "source": [
    "Na = 5000\n",
    "Ma = 5000\n",
    "\n",
    "Nb = 5000\n",
    "Mb = 5000\n",
    "\n",
    "tf.reset_default_graph()\n",
    "\n",
    "A = tf.random.uniform((Na, Ma))\n",
    "B = tf.random.uniform((Nb, Mb))\n",
    "\n",
    "C = tf.matmul(A, B)\n",
    "\n",
    "with tf.Session() as sess:\n",
    "    \n",
    "    sess.run([A, B])\n",
    "    \n",
    "    t1 = time.time()\n",
    "    result = sess.run(C)\n",
    "    t2 = time.time()\n",
    "    \n",
    "print(f'Time: {(t2 - t1):.3f}')"
   ]
  },
  {
   "cell_type": "code",
   "execution_count": 14,
   "metadata": {},
   "outputs": [
    {
     "name": "stdout",
     "output_type": "stream",
     "text": [
      "Time: 0.872\n"
     ]
    }
   ],
   "source": [
    "Na = 10000\n",
    "Ma = 10000\n",
    "\n",
    "Nb = 10000\n",
    "Mb = 10000\n",
    "\n",
    "tf.reset_default_graph()\n",
    "\n",
    "A = tf.random.uniform((Na, Ma))\n",
    "B = tf.random.uniform((Nb, Mb))\n",
    "\n",
    "C = tf.matmul(A, B)\n",
    "\n",
    "with tf.Session() as sess:\n",
    "    \n",
    "    sess.run([A, B])\n",
    "    \n",
    "    t1 = time.time()\n",
    "    result = sess.run(C)\n",
    "    t2 = time.time()\n",
    "    \n",
    "print(f'Time: {(t2 - t1):.3f}')"
   ]
  },
  {
   "cell_type": "code",
   "execution_count": null,
   "metadata": {},
   "outputs": [],
   "source": []
  }
 ],
 "metadata": {
  "kernelspec": {
   "display_name": "Python 3",
   "language": "python",
   "name": "python3"
  },
  "language_info": {
   "codemirror_mode": {
    "name": "ipython",
    "version": 3
   },
   "file_extension": ".py",
   "mimetype": "text/x-python",
   "name": "python",
   "nbconvert_exporter": "python",
   "pygments_lexer": "ipython3",
   "version": "3.7.4"
  }
 },
 "nbformat": 4,
 "nbformat_minor": 2
}
